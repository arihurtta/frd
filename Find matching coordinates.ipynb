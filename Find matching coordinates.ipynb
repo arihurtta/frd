{
 "cells": [
  {
   "cell_type": "markdown",
   "metadata": {},
   "source": [
    "## Find matching coordinates \n",
    "Haetaan koalatietojen tiedot ja hilatiedot sekä selvitetään niiden perusteella yhteiset koordinaatit.\n",
    "#Load the actual sample area data (koeala) and grid data (hila) and find which 16m x 16 m grid is surrounding the sample coordinates.\n"
   ]
  },
  {
   "cell_type": "code",
   "execution_count": 1,
   "metadata": {
    "scrolled": true
   },
   "outputs": [],
   "source": [
    "# Libraries (not all may be necessary)\n",
    "import geopandas #needed to open gpkg source date file \n",
    "#import matplotlib.pyplot as plt\n",
    "import numpy as np\n",
    "import pandas as pd\n",
    "#import fiona\n",
    "#import seaborn as sns\n"
   ]
  },
  {
   "cell_type": "code",
   "execution_count": 3,
   "metadata": {},
   "outputs": [
    {
     "name": "stdout",
     "output_type": "stream",
     "text": [
      "Koeala coordinate reference system is: epsg:3067\n"
     ]
    }
   ],
   "source": [
    "#Load sample area data (koeala)\n",
    "gdf_koe = geopandas.read_file('Koeala_Mie.gpkg', layer='sampleplot')\n",
    "print (\"Koeala coordinate reference system is:\", gdf_koe.crs)\n",
    "gdf_koe=gdf_koe[\"geometry\"] # only keep relevant column in this analysis\n",
    "#print(gdf_koe)   "
   ]
  },
  {
   "cell_type": "code",
   "execution_count": 4,
   "metadata": {},
   "outputs": [
    {
     "name": "stdout",
     "output_type": "stream",
     "text": [
      "Hila coordinate reference system is: EPSG:3067\n"
     ]
    }
   ],
   "source": [
    "#Load grid data (hila)\n",
    "\n",
    "#Run command line conversion from gpkg to csv with\n",
    "#ogr2ogr -f \"CSV\" Hila_Mie.csv Hila_Mie.gpkg -lco GEOMETRY=AS_WKT\n",
    "#This is only needed when to be done once when the data is loaded or updated\n",
    "\n",
    "from shapely import wkt\n",
    "\n",
    "path = \"./Hila_mie.csv\"  # Define the file path\n",
    "gdf_hila = pd.read_csv(path)\n",
    "gdf_hila['geometry']= gdf_hila['WKT'].apply(wkt.loads)\n",
    "gdf_hila = geopandas.GeoDataFrame(gdf_hila, geometry='geometry') \n",
    "gdf_hila = gdf_hila[\"geometry\"] #keep only relevant column in analysis\n",
    "gdf_hila.crs = \"EPSG:3067\"\n",
    "print (\"Hila coordinate reference system is:\", gdf_hila.crs)\n",
    "#print(gdf_hila)"
   ]
  },
  {
   "cell_type": "code",
   "execution_count": 43,
   "metadata": {},
   "outputs": [
    {
     "name": "stdout",
     "output_type": "stream",
     "text": [
      "0\n",
      "564168\n"
     ]
    }
   ],
   "source": [
    "#Loop over all sample area data items and in another loop to find if any of grid data areas match\n",
    "#This code takes couple of days to run in laptop. Better solutions would be nice to have\n",
    "for i in gdf_koe.index:\n",
    "    xs=gdf_koe.geometry.iloc[i].x\n",
    "    ys=gdf_koe.geometry.iloc[i].y\n",
    "    for n in range(len(gdf_hila)):\n",
    "        xn=np.squeeze(np.dstack((gdf_hila.geometry.iloc[n].exterior.xy)))[0,0]\n",
    "        xn1=np.squeeze(np.dstack((gdf_hila.geometry.iloc[n].exterior.xy)))[2,0]\n",
    "        yn=np.squeeze(np.dstack((gdf_hila.geometry.iloc[n].exterior.xy)))[0,1]\n",
    "        yn1=np.squeeze(np.dstack((gdf_hila.geometry.iloc[n].exterior.xy)))[2,1]\n",
    "        if ((xn <= xs) and (xn1 > xs) and (yn <= ys) and (yn1 > ys)):\n",
    "            print(i)\n",
    "            print(n)"
   ]
  }
 ],
 "metadata": {
  "kernelspec": {
   "display_name": "Python 3",
   "language": "python",
   "name": "python3"
  },
  "language_info": {
   "codemirror_mode": {
    "name": "ipython",
    "version": 3
   },
   "file_extension": ".py",
   "mimetype": "text/x-python",
   "name": "python",
   "nbconvert_exporter": "python",
   "pygments_lexer": "ipython3",
   "version": "3.7.8"
  }
 },
 "nbformat": 4,
 "nbformat_minor": 4
}
