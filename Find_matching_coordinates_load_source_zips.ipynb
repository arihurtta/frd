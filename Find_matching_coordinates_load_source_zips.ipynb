{
  "nbformat": 4,
  "nbformat_minor": 0,
  "metadata": {
    "kernelspec": {
      "display_name": "Python 3",
      "language": "python",
      "name": "python3"
    },
    "language_info": {
      "codemirror_mode": {
        "name": "ipython",
        "version": 3
      },
      "file_extension": ".py",
      "mimetype": "text/x-python",
      "name": "python",
      "nbconvert_exporter": "python",
      "pygments_lexer": "ipython3",
      "version": "3.7.8"
    },
    "colab": {
      "name": "Find matching coordinates - load source zips.ipynb",
      "provenance": [],
      "toc_visible": true
    }
  },
  "cells": [
    {
      "cell_type": "markdown",
      "metadata": {
        "id": "A0qrhDsroL6K"
      },
      "source": [
        "## Find matching coordinates  - load source zips\n",
        "Haetaan koalatietojen tiedot ja hilatiedot sekä selvitetään niiden perusteella yhteiset koordinaatit.\n",
        "#Load the actual sample area data (koeala) and grid data (hila) and find which 16m x 16 m grid is surrounding the sample coordinates.\n",
        "#Load source zip files direcly from web site (not use local computer upload)\n"
      ]
    },
    {
      "cell_type": "code",
      "metadata": {
        "scrolled": true,
        "colab": {
          "base_uri": "https://localhost:8080/"
        },
        "id": "Ad58bXemoL6P",
        "outputId": "6273675d-61ba-40a5-bf2d-a67b84cb2637"
      },
      "source": [
        "# Install Geopandas\n",
        "!pip install git+git://github.com/geopandas/geopandas.git\n"
      ],
      "execution_count": 7,
      "outputs": [
        {
          "output_type": "stream",
          "text": [
            "Collecting git+git://github.com/geopandas/geopandas.git\n",
            "  Cloning git://github.com/geopandas/geopandas.git to /tmp/pip-req-build-iwzx9shk\n",
            "  Running command git clone -q git://github.com/geopandas/geopandas.git /tmp/pip-req-build-iwzx9shk\n",
            "Requirement already satisfied: pandas>=0.24.0 in /usr/local/lib/python3.7/dist-packages (from geopandas==0.9.0+7.gf5c54ed) (1.1.5)\n",
            "Requirement already satisfied: shapely>=1.6 in /usr/local/lib/python3.7/dist-packages (from geopandas==0.9.0+7.gf5c54ed) (1.7.1)\n",
            "Collecting fiona>=1.8\n",
            "\u001b[?25l  Downloading https://files.pythonhosted.org/packages/47/c2/67d1d0acbaaee3b03e5e22e3b96c33219cb5dd392531c9ff9cee7c2eb3e4/Fiona-1.8.18-cp37-cp37m-manylinux1_x86_64.whl (14.8MB)\n",
            "\u001b[K     |████████████████████████████████| 14.8MB 318kB/s \n",
            "\u001b[?25hCollecting pyproj>=2.2.0\n",
            "\u001b[?25l  Downloading https://files.pythonhosted.org/packages/b1/72/d52e9ca81caef056062d71991b0e9b1d16af042245627c5d0e4916a36c4f/pyproj-3.0.1-cp37-cp37m-manylinux2010_x86_64.whl (6.5MB)\n",
            "\u001b[K     |████████████████████████████████| 6.5MB 43.6MB/s \n",
            "\u001b[?25hRequirement already satisfied: pytz>=2017.2 in /usr/local/lib/python3.7/dist-packages (from pandas>=0.24.0->geopandas==0.9.0+7.gf5c54ed) (2018.9)\n",
            "Requirement already satisfied: python-dateutil>=2.7.3 in /usr/local/lib/python3.7/dist-packages (from pandas>=0.24.0->geopandas==0.9.0+7.gf5c54ed) (2.8.1)\n",
            "Requirement already satisfied: numpy>=1.15.4 in /usr/local/lib/python3.7/dist-packages (from pandas>=0.24.0->geopandas==0.9.0+7.gf5c54ed) (1.19.5)\n",
            "Requirement already satisfied: click<8,>=4.0 in /usr/local/lib/python3.7/dist-packages (from fiona>=1.8->geopandas==0.9.0+7.gf5c54ed) (7.1.2)\n",
            "Requirement already satisfied: six>=1.7 in /usr/local/lib/python3.7/dist-packages (from fiona>=1.8->geopandas==0.9.0+7.gf5c54ed) (1.15.0)\n",
            "Requirement already satisfied: attrs>=17 in /usr/local/lib/python3.7/dist-packages (from fiona>=1.8->geopandas==0.9.0+7.gf5c54ed) (20.3.0)\n",
            "Requirement already satisfied: certifi in /usr/local/lib/python3.7/dist-packages (from fiona>=1.8->geopandas==0.9.0+7.gf5c54ed) (2020.12.5)\n",
            "Collecting cligj>=0.5\n",
            "  Downloading https://files.pythonhosted.org/packages/42/1e/947eadf10d6804bf276eb8a038bd5307996dceaaa41cfd21b7a15ec62f5d/cligj-0.7.1-py3-none-any.whl\n",
            "Collecting munch\n",
            "  Downloading https://files.pythonhosted.org/packages/cc/ab/85d8da5c9a45e072301beb37ad7f833cd344e04c817d97e0cc75681d248f/munch-2.5.0-py2.py3-none-any.whl\n",
            "Collecting click-plugins>=1.0\n",
            "  Downloading https://files.pythonhosted.org/packages/e9/da/824b92d9942f4e472702488857914bdd50f73021efea15b4cad9aca8ecef/click_plugins-1.1.1-py2.py3-none-any.whl\n",
            "Building wheels for collected packages: geopandas\n",
            "  Building wheel for geopandas (setup.py) ... \u001b[?25l\u001b[?25hdone\n",
            "  Created wheel for geopandas: filename=geopandas-0.9.0+7.gf5c54ed-py2.py3-none-any.whl size=995043 sha256=c1813b12f623140a655f6959a7a14b204f047ce37905c425d28be2ff710b8d81\n",
            "  Stored in directory: /tmp/pip-ephem-wheel-cache-zbfmhsu8/wheels/91/24/71/376c9c67192694168352afcccc2d264248f7e2cc6192997186\n",
            "Successfully built geopandas\n",
            "Installing collected packages: cligj, munch, click-plugins, fiona, pyproj, geopandas\n",
            "Successfully installed click-plugins-1.1.1 cligj-0.7.1 fiona-1.8.18 geopandas-0.9.0+7.gf5c54ed munch-2.5.0 pyproj-3.0.1\n"
          ],
          "name": "stdout"
        }
      ]
    },
    {
      "cell_type": "code",
      "metadata": {
        "id": "hwSbqTAtozBa"
      },
      "source": [
        "# Libraries (not all may be necessary)\r\n",
        "import geopandas #needed to open gpkg source date file \r\n",
        "#import matplotlib.pyplot as plt\r\n",
        "import numpy as np\r\n",
        "import pandas as pd\r\n",
        "#import fiona\r\n",
        "#import seaborn as sns"
      ],
      "execution_count": 8,
      "outputs": []
    },
    {
      "cell_type": "code",
      "metadata": {
        "colab": {
          "base_uri": "https://localhost:8080/"
        },
        "id": "NmLE0QwC3ez3",
        "outputId": "bb3bbbf9-7fab-4001-a61c-a1a1c40242af"
      },
      "source": [
        "!wget https://aineistot.metsaan.fi/avoinmetsatieto/Kaukokartoituskoealat/Kunta/Koeala_Sipoo.zip\r\n"
      ],
      "execution_count": 9,
      "outputs": [
        {
          "output_type": "stream",
          "text": [
            "--2021-03-22 09:18:29--  https://aineistot.metsaan.fi/avoinmetsatieto/Kaukokartoituskoealat/Kunta/Koeala_Sipoo.zip\n",
            "Resolving aineistot.metsaan.fi (aineistot.metsaan.fi)... 131.207.79.68\n",
            "Connecting to aineistot.metsaan.fi (aineistot.metsaan.fi)|131.207.79.68|:443... connected.\n",
            "HTTP request sent, awaiting response... 200 OK\n",
            "Length: 165249 (161K) [application/x-zip-compressed]\n",
            "Saving to: ‘Koeala_Sipoo.zip’\n",
            "\n",
            "Koeala_Sipoo.zip    100%[===================>] 161.38K   151KB/s    in 1.1s    \n",
            "\n",
            "2021-03-22 09:18:31 (151 KB/s) - ‘Koeala_Sipoo.zip’ saved [165249/165249]\n",
            "\n"
          ],
          "name": "stdout"
        }
      ]
    },
    {
      "cell_type": "code",
      "metadata": {
        "colab": {
          "base_uri": "https://localhost:8080/"
        },
        "id": "OT9GEhkP4aiD",
        "outputId": "2540db30-8eed-4694-92ea-77e1cd0be16e"
      },
      "source": [
        "!unzip Koeala_Sipoo.zip"
      ],
      "execution_count": 10,
      "outputs": [
        {
          "output_type": "stream",
          "text": [
            "Archive:  Koeala_Sipoo.zip\n",
            "  inflating: Koeala_Sipoo.gpkg       \n"
          ],
          "name": "stdout"
        }
      ]
    },
    {
      "cell_type": "code",
      "metadata": {
        "colab": {
          "base_uri": "https://localhost:8080/"
        },
        "id": "yY53L5d04mdI",
        "outputId": "1a01c7bf-8584-4f8c-db19-3b41ed4be4d2"
      },
      "source": [
        "!ls"
      ],
      "execution_count": 11,
      "outputs": [
        {
          "output_type": "stream",
          "text": [
            "drive  Koeala_Sipoo.gpkg  Koeala_Sipoo.zip  new.csv  sample_data\n"
          ],
          "name": "stdout"
        }
      ]
    },
    {
      "cell_type": "code",
      "metadata": {
        "colab": {
          "base_uri": "https://localhost:8080/"
        },
        "id": "HcyEr-Z7oL6Q",
        "outputId": "7ad2169b-e559-4306-f59c-02232f5af2ab"
      },
      "source": [
        "#Load sample area data (koeala)\n",
        "gdf_koe = geopandas.read_file('Koeala_Sipoo.gpkg', layer='sampleplot')\n",
        "print (\"Koeala coordinate reference system is:\", gdf_koe.crs)\n",
        "gdf_koe=gdf_koe[\"geometry\"] # only keep relevant column in this analysis\n",
        "print(gdf_koe)   "
      ],
      "execution_count": 12,
      "outputs": [
        {
          "output_type": "stream",
          "text": [
            "Koeala coordinate reference system is: epsg:3067\n",
            "0      POINT (409803.260 6683110.170)\n",
            "1      POINT (409612.250 6683121.040)\n",
            "2      POINT (409968.980 6683185.040)\n",
            "3      POINT (409870.720 6683241.770)\n",
            "4      POINT (410005.090 6683296.690)\n",
            "                    ...              \n",
            "236    POINT (401609.480 6698446.710)\n",
            "237    POINT (401990.100 6698575.810)\n",
            "238    POINT (401624.280 6698600.960)\n",
            "239    POINT (401791.930 6698604.860)\n",
            "240    POINT (400036.306 6705775.531)\n",
            "Name: geometry, Length: 241, dtype: geometry\n"
          ],
          "name": "stdout"
        },
        {
          "output_type": "stream",
          "text": [
            "/usr/local/lib/python3.7/dist-packages/geopandas/geodataframe.py:577: RuntimeWarning: Sequential read of iterator was interrupted. Resetting iterator. This can negatively impact the performance.\n",
            "  for feature in features_lst:\n"
          ],
          "name": "stderr"
        }
      ]
    },
    {
      "cell_type": "code",
      "metadata": {
        "colab": {
          "base_uri": "https://localhost:8080/"
        },
        "id": "nbrUXyfB4zoA",
        "outputId": "4dab61e5-8d3d-48fa-a2f0-397a7edaba1f"
      },
      "source": [
        "!wget https://aineistot.metsaan.fi/avoinmetsatieto/Hila/Kunta/Hila_Sipoo.zip"
      ],
      "execution_count": 13,
      "outputs": [
        {
          "output_type": "stream",
          "text": [
            "--2021-03-22 09:18:31--  https://aineistot.metsaan.fi/avoinmetsatieto/Hila/Kunta/Hila_Sipoo.zip\n",
            "Resolving aineistot.metsaan.fi (aineistot.metsaan.fi)... 131.207.79.68\n",
            "Connecting to aineistot.metsaan.fi (aineistot.metsaan.fi)|131.207.79.68|:443... connected.\n",
            "HTTP request sent, awaiting response... 200 OK\n",
            "Length: 101176619 (96M) [application/x-zip-compressed]\n",
            "Saving to: ‘Hila_Sipoo.zip’\n",
            "\n",
            "Hila_Sipoo.zip      100%[===================>]  96.49M   352KB/s    in 4m 44s  \n",
            "\n",
            "2021-03-22 09:23:16 (348 KB/s) - ‘Hila_Sipoo.zip’ saved [101176619/101176619]\n",
            "\n"
          ],
          "name": "stdout"
        }
      ]
    },
    {
      "cell_type": "code",
      "metadata": {
        "colab": {
          "base_uri": "https://localhost:8080/"
        },
        "id": "jTsHheUQ5dJa",
        "outputId": "3fa8d25b-e987-4d68-aa3c-bf7c731105d8"
      },
      "source": [
        "!unzip Hila_Sipoo.zip\r\n",
        "!ls"
      ],
      "execution_count": 14,
      "outputs": [
        {
          "output_type": "stream",
          "text": [
            "Archive:  Hila_Sipoo.zip\n",
            "  inflating: Hila_Sipoo.gpkg         \n",
            "drive\t\t Hila_Sipoo.zip     Koeala_Sipoo.zip  sample_data\n",
            "Hila_Sipoo.gpkg  Koeala_Sipoo.gpkg  new.csv\n"
          ],
          "name": "stdout"
        }
      ]
    },
    {
      "cell_type": "code",
      "metadata": {
        "id": "37fYFxCweGeZ"
      },
      "source": [
        "!ogr2ogr -f \"CSV\" Hila_Sip.csv Hila_Sipoo.gpkg -lco GEOMETRY=AS_WKT"
      ],
      "execution_count": 15,
      "outputs": []
    },
    {
      "cell_type": "code",
      "metadata": {
        "colab": {
          "base_uri": "https://localhost:8080/"
        },
        "id": "dMX2ib08eh4I",
        "outputId": "c5e0c086-7db8-4f1a-8c40-b4aa91af0a0a"
      },
      "source": [
        "!ls"
      ],
      "execution_count": 16,
      "outputs": [
        {
          "output_type": "stream",
          "text": [
            "drive\t      Hila_Sipoo.gpkg  Koeala_Sipoo.gpkg  new.csv\n",
            "Hila_Sip.csv  Hila_Sipoo.zip   Koeala_Sipoo.zip   sample_data\n"
          ],
          "name": "stdout"
        }
      ]
    },
    {
      "cell_type": "code",
      "metadata": {
        "colab": {
          "base_uri": "https://localhost:8080/"
        },
        "id": "ob6sC9RzoL6R",
        "outputId": "36856147-7c7d-430b-e7b9-eec62e1290d5"
      },
      "source": [
        "#Load grid data (hila)\n",
        "\n",
        "#Run command line conversion from gpkg to csv with\n",
        "#ogr2ogr -f \"CSV\" Hila_Mie.csv Hila_Mie.gpkg -lco GEOMETRY=AS_WKT\n",
        "#This is only needed when to be done once when the data is loaded or updated\n",
        "\n",
        "from shapely import wkt\n",
        "import io\n",
        "\n",
        "path = \"./Hila_Sip.csv\"  # Define the file path\n",
        "gdf_hila = pd.read_csv(path)\n",
        "print(gdf_hila)\n",
        "gdf_hila['geometry']= gdf_hila['WKT'].apply(wkt.loads)\n",
        "gdf_hila = geopandas.GeoDataFrame(gdf_hila, geometry='geometry') \n",
        "gdf_hila = gdf_hila[\"geometry\"] #keep only relevant column in analysis\n",
        "gdf_hila.crs = \"EPSG:3067\"\n",
        "print (\"Hila coordinate reference system is:\", gdf_hila.crs)\n",
        "print(gdf_hila)"
      ],
      "execution_count": 17,
      "outputs": [
        {
          "output_type": "stream",
          "text": [
            "                                                      WKT  ...              updatetime\n",
            "0       POLYGON ((404240.0 6683984.0,404256.0 6683984....  ...  2020/09/28 20:03:00+00\n",
            "1       POLYGON ((404256.0 6683984.0,404272.0 6683984....  ...  2020/09/28 20:03:00+00\n",
            "2       POLYGON ((404384.0 6683984.0,404400.0 6683984....  ...  2020/09/25 11:42:45+00\n",
            "3       POLYGON ((404400.0 6683984.0,404416.0 6683984....  ...  2020/09/25 11:42:45+00\n",
            "4       POLYGON ((404416.0 6683984.0,404432.0 6683984....  ...  2020/09/25 11:42:45+00\n",
            "...                                                   ...  ...                     ...\n",
            "670633  POLYGON ((400864.0 6677728.00000014,400880.0 6...  ...  2016/09/05 07:44:10+00\n",
            "670634  POLYGON ((400848.0 6677728.00000014,400864.0 6...  ...  2016/09/05 07:44:10+00\n",
            "670635  POLYGON ((400816.0 6677728.00000014,400832.0 6...  ...  2016/09/05 07:44:10+00\n",
            "670636  POLYGON ((400880.0 6677728.00000014,400896.0 6...  ...  2016/09/05 07:44:10+00\n",
            "670637  POLYGON ((400832.0 6677728.00000014,400848.0 6...  ...  2016/09/05 07:44:10+00\n",
            "\n",
            "[670638 rows x 47 columns]\n",
            "Hila coordinate reference system is: EPSG:3067\n",
            "0         POLYGON ((404240.000 6683984.000, 404256.000 6...\n",
            "1         POLYGON ((404256.000 6683984.000, 404272.000 6...\n",
            "2         POLYGON ((404384.000 6683984.000, 404400.000 6...\n",
            "3         POLYGON ((404400.000 6683984.000, 404416.000 6...\n",
            "4         POLYGON ((404416.000 6683984.000, 404432.000 6...\n",
            "                                ...                        \n",
            "670633    POLYGON ((400864.000 6677728.000, 400880.000 6...\n",
            "670634    POLYGON ((400848.000 6677728.000, 400864.000 6...\n",
            "670635    POLYGON ((400816.000 6677728.000, 400832.000 6...\n",
            "670636    POLYGON ((400880.000 6677728.000, 400896.000 6...\n",
            "670637    POLYGON ((400832.000 6677728.000, 400848.000 6...\n",
            "Name: geometry, Length: 670638, dtype: geometry\n"
          ],
          "name": "stdout"
        }
      ]
    },
    {
      "cell_type": "code",
      "metadata": {
        "colab": {
          "base_uri": "https://localhost:8080/"
        },
        "id": "69PwNFRtoL6R",
        "outputId": "e61d3415-495c-4c92-d743-e69e2b9c21b1"
      },
      "source": [
        "#Loop over all sample area data items and in another loop to find if any of grid data areas match\n",
        "#This code takes couple of days to run in laptop. Better solutions would be nice to have\n",
        "a=[]\n",
        "for i in gdf_koe.index:\n",
        "    xs=gdf_koe.geometry.iloc[i].x\n",
        "    ys=gdf_koe.geometry.iloc[i].y\n",
        "    for n in range(len(gdf_hila)):\n",
        "        xn=np.squeeze(np.dstack((gdf_hila.geometry.iloc[n].exterior.xy)))[0,0]\n",
        "        xn1=np.squeeze(np.dstack((gdf_hila.geometry.iloc[n].exterior.xy)))[2,0]\n",
        "        yn=np.squeeze(np.dstack((gdf_hila.geometry.iloc[n].exterior.xy)))[0,1]\n",
        "        yn1=np.squeeze(np.dstack((gdf_hila.geometry.iloc[n].exterior.xy)))[2,1]\n",
        "        if ((xn <= xs) and (xn1 > xs) and (yn <= ys) and (yn1 > ys)):\n",
        "            print(i)\n",
        "            print(n)\n",
        "            a.append(i)\n",
        "            a.append(n)\n"
      ],
      "execution_count": null,
      "outputs": [
        {
          "output_type": "stream",
          "text": [
            "6\n",
            "345765\n",
            "29\n",
            "346429\n",
            "30\n",
            "346443\n",
            "102\n",
            "598367\n",
            "103\n",
            "523005\n",
            "104\n",
            "531770\n",
            "105\n",
            "531194\n",
            "106\n",
            "519950\n",
            "107\n",
            "525499\n",
            "108\n",
            "521698\n",
            "114\n",
            "134600\n"
          ],
          "name": "stdout"
        }
      ]
    },
    {
      "cell_type": "code",
      "metadata": {
        "id": "-2BWisKhMEgQ"
      },
      "source": [
        "import csv\r\n",
        "\r\n",
        "#Store output as a file in Colab\r\n",
        "with open('sip_match.csv', 'w') as f:\r\n",
        "    for d in a:\r\n",
        "        f.write(str(d))\r\n",
        "        f.write(\"\\n\")\r\n",
        "\r\n",
        "#Store output as a file in Google Drive\r\n",
        "from google.colab import drive\r\n",
        "drive.mount('/content/drive')\r\n",
        "\r\n",
        "with open('/content/drive/My Drive/frd/sip_match.csv', 'w') as f:\r\n",
        "  for d in a:\r\n",
        "    f.write(str(d))\r\n",
        "    f.write(\"\\n\")\r\n"
      ],
      "execution_count": null,
      "outputs": []
    },
    {
      "cell_type": "code",
      "metadata": {
        "id": "oUUA1srdd4Nr"
      },
      "source": [
        "!ls"
      ],
      "execution_count": null,
      "outputs": []
    },
    {
      "cell_type": "markdown",
      "metadata": {
        "id": "6JtzcoHfy9hr"
      },
      "source": [
        "# New Section"
      ]
    }
  ]
}